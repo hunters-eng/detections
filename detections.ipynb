{
  "nbformat": 4,
  "nbformat_minor": 0,
  "metadata": {
    "colab": {
      "provenance": [],
      "toc_visible": true,
      "collapsed_sections": [
        "FtGieA7YHQTG",
        "k6B_bmdv9Qqb",
        "yiAXO0aV_DeL",
        "ar2YaySpYUwI",
        "EApXDW4JooOx"
      ],
      "authorship_tag": "ABX9TyOPn38C5WN4O0qIgDqeyR3S",
      "include_colab_link": true
    },
    "kernelspec": {
      "name": "python3",
      "display_name": "Python 3"
    },
    "language_info": {
      "name": "python"
    }
  },
  "cells": [
    {
      "cell_type": "markdown",
      "metadata": {
        "id": "view-in-github",
        "colab_type": "text"
      },
      "source": [
        "<a href=\"https://colab.research.google.com/github/hunters-eng/detections/blob/main/detections.ipynb\" target=\"_parent\"><img src=\"https://colab.research.google.com/assets/colab-badge.svg\" alt=\"Open In Colab\"/></a>"
      ]
    },
    {
      "cell_type": "markdown",
      "source": [
        "# 1. Use cases\n",
        "\n",
        "Use cases are structured in three levels:\n",
        "\n",
        "Level 1: Business Layer\n",
        "\n",
        "Level 2: Threat Layer\n",
        "\n",
        "Level 3: Implementation Layer (Alerts, Investigations, Reports)\n",
        "\n",
        "The use cases are either alerts, investigations (Dashboards) or reports."
      ],
      "metadata": {
        "id": "FtGieA7YHQTG"
      }
    },
    {
      "source": [
        "import pandas as pd\n",
        "from IPython.display import display, HTML\n",
        "import ipywidgets as widgets\n",
        "from ipywidgets import interact, interactive, fixed, interact_manual\n",
        "\n",
        "alertsurl = \"https://raw.githubusercontent.com/hunters-eng/detections/main/L3_alerts.csv\"\n",
        "reportsurl = \"https://raw.githubusercontent.com/hunters-eng/detections/main/L3_reports.csv\"\n",
        "investigationsurl = \"https://raw.githubusercontent.com/hunters-eng/detections/main/L3-investigations.csv\"\n",
        "\n",
        "alertsdf = pd.read_csv(alertsurl, encoding='latin-1')\n",
        "reportsdf = pd.read_csv(reportsurl, encoding='latin-1')\n",
        "investigationsdf = pd.read_csv(investigationsurl, encoding='latin-1')\n",
        "\n",
        "\n",
        "def display_interactive_table(df):\n",
        "        # Convert the DataFrame to HTML\n",
        "        html_table = df.to_html(classes='table table-striped table-hover')\n",
        "\n",
        "        # Add JavaScript for interactivity (e.g., sorting, filtering)\n",
        "        javascript = \"\"\"\n",
        "        <script>\n",
        "            $(document).ready(function() {\n",
        "                $('table').DataTable();\n",
        "            });\n",
        "        </script>\n",
        "        \"\"\"\n",
        "\n",
        "        # Display the styled HTML with JavaScript\n",
        "        display(HTML(html_table + javascript))\n",
        "\n",
        "def on_button_clicked(b):\n",
        "    with output:\n",
        "        display_interactive_table(alertsdf)\n",
        "\n",
        "button = widgets.Button(description=\"Alerts\")\n",
        "output = widgets.Output()\n",
        "display(button, output)\n",
        "button.on_click(on_button_clicked)"
      ],
      "cell_type": "code",
      "metadata": {
        "id": "IbR_iKPX2axZ"
      },
      "execution_count": null,
      "outputs": []
    },
    {
      "cell_type": "markdown",
      "source": [
        "# 2. Data sources\n",
        "MITRE ATTACK Data Sources"
      ],
      "metadata": {
        "id": "k6B_bmdv9Qqb"
      }
    },
    {
      "source": [
        "import pandas as pd\n",
        "\n",
        "url = \"https://attack.mitre.org/docs/enterprise-attack-v16.0/enterprise-attack-v16.0-datasources.xlsx\"\n",
        "datasourcesdf = pd.read_excel(url, engine=\"openpyxl\")\n",
        "\n",
        "datasourcesdf.head()"
      ],
      "cell_type": "code",
      "metadata": {
        "id": "wMJ3uHHW-bjF"
      },
      "execution_count": null,
      "outputs": []
    },
    {
      "cell_type": "markdown",
      "source": [
        "# 3. Data Dictionaries (Events)\n",
        "Data Dictionaries can be viewed from OSSEM Repository. The use case Data Dictionaries should be updated using the common data model if incomplete."
      ],
      "metadata": {
        "id": "yiAXO0aV_DeL"
      }
    },
    {
      "source": [
        "from ipywidgets import interact, widgets\n",
        "import requests\n",
        "import json\n",
        "\n",
        "def query_github_repo(user_input):\n",
        "   base_url = \"https://api.github.com/repos/OTRF/OSSEM-DD/contents\" # Replace username/repository\n",
        "   url = base_url + user_input # user_input will be appended to the base_url\n",
        "\n",
        "   response = requests.get(url)\n",
        "\n",
        "   if response.status_code == 200:\n",
        "       contents = json.loads(response.text)\n",
        "       for item in contents:\n",
        "           print(item[\"name\"])\n",
        "   else:\n",
        "       print(f\"Error: {response.status_code}\")\n",
        "text_widget = widgets.Text(\n",
        "       value='',\n",
        "       placeholder='Enter path (e.g., \"src/data\")',\n",
        "       description='Repository Path:',\n",
        "       disabled=False\n",
        "   )\n",
        "\n",
        "interact(query_github_repo, user_input=text_widget);"
      ],
      "cell_type": "code",
      "metadata": {
        "id": "Nv2KAVTLPohr"
      },
      "execution_count": null,
      "outputs": []
    },
    {
      "cell_type": "markdown",
      "source": [],
      "metadata": {
        "id": "C0DnYE0RYP3l"
      }
    },
    {
      "cell_type": "markdown",
      "source": [
        "# 4. Relationships"
      ],
      "metadata": {
        "id": "ar2YaySpYUwI"
      }
    },
    {
      "source": [
        "import pandas as pd\n",
        "import yaml\n",
        "import requests\n",
        "\n",
        "url = \"https://raw.githubusercontent.com/OTRF/OSSEM-DM/main/use-cases/mitre_attack/techniques_to_events_mapping.yaml\"\n",
        "response = requests.get(url)\n",
        "yaml_content = response.text\n",
        "\n",
        "data = yaml.safe_load(yaml_content)\n",
        "\n",
        "df = pd.DataFrame(data)"
      ],
      "cell_type": "code",
      "metadata": {
        "id": "uohyNDWKabTz"
      },
      "execution_count": null,
      "outputs": []
    },
    {
      "cell_type": "markdown",
      "source": [
        "# 5. Hunt template"
      ],
      "metadata": {
        "id": "EApXDW4JooOx"
      }
    },
    {
      "cell_type": "markdown",
      "source": [
        "Reference: [The Hacker Playbook](https://threathunterplaybook.com/hunts/windows/170105-LSASSMemoryReadAccess/notebook.html)\n",
        "---\n",
        "## *Hunt Name*\n",
        "\n",
        "## Hypothesis\n",
        "*Hypothesis*\n",
        "\n",
        "## Technical Context\n",
        "*Technical Context*\n",
        "\n",
        "## Offensive Tradecraft\n",
        "*Offensive Tradecraft*\n",
        "\n",
        "## Pre-Recorded Security Datasets\n",
        "*docs*\n",
        "*link*\n",
        "\n",
        "## Download Dataset\n",
        "## Read Dataset\n",
        "## Analytics\n",
        "*Analytics*\n",
        "### Logic\n",
        "### Pandas Query\n",
        "## Known Bypasses\n",
        "## False Positives\n",
        "## Hunter Notes\n",
        "## Hunt Output\n",
        "## References"
      ],
      "metadata": {
        "id": "Rocex9-vTTyt"
      }
    }
  ]
}